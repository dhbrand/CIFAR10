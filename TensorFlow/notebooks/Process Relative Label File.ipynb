{
 "cells": [
  {
   "cell_type": "code",
   "execution_count": 1,
   "metadata": {
    "collapsed": true
   },
   "outputs": [],
   "source": [
    "import pandas as pd"
   ]
  },
  {
   "cell_type": "code",
   "execution_count": 2,
   "metadata": {},
   "outputs": [
    {
     "name": "stdout",
     "output_type": "stream",
     "text": [
      "                             id       label\n",
      "0  C:/data/cifar_10/train/1.png        frog\n",
      "1  C:/data/cifar_10/train/2.png       truck\n",
      "2  C:/data/cifar_10/train/3.png       truck\n",
      "3  C:/data/cifar_10/train/4.png        deer\n",
      "4  C:/data/cifar_10/train/5.png  automobile\n",
      "['bird', 'truck', 'deer', 'ship', 'automobile', 'cat', 'horse', 'frog', 'dog', 'airplane']\n"
     ]
    }
   ],
   "source": [
    "labels_file = 'C:/data/cifar_10/trainLabels.csv'\n",
    "labels = pd.read_csv(labels_file, dtype={'id': object})\n",
    "labels['id'] = 'C:/data/cifar_10/train/' + labels['id'] + '.png'\n",
    "classes = list(set(labels['label']))\n",
    "print(labels.loc[0:4])\n",
    "print(classes)"
   ]
  },
  {
   "cell_type": "code",
   "execution_count": 5,
   "metadata": {},
   "outputs": [
    {
     "name": "stdout",
     "output_type": "stream",
     "text": [
      "{'frog': 8, 'dog': 9, 'airplane': 10, 'horse': 7, 'bird': 1, 'truck': 2, 'deer': 3, 'cat': 6, 'ship': 4, 'automobile': 5}\n",
      "                    examplepath  label\n",
      "0  C:/data/cifar_10/train/1.png      8\n",
      "1  C:/data/cifar_10/train/2.png      2\n",
      "2  C:/data/cifar_10/train/3.png      2\n",
      "3  C:/data/cifar_10/train/4.png      3\n",
      "4  C:/data/cifar_10/train/5.png      5\n"
     ]
    }
   ],
   "source": [
    "num_class = [x + 1 for x in range(len(classes))]\n",
    "class_to_num_dict = dict(zip(classes, num_class))\n",
    "print(class_to_num_dict)\n",
    "proc_labels = labels.replace({'label': class_to_num_dict})\n",
    "proc_labels.columns = ['examplepath', 'label']\n",
    "print(proc_labels.loc[0:4])"
   ]
  },
  {
   "cell_type": "code",
   "execution_count": 6,
   "metadata": {},
   "outputs": [
    {
     "name": "stdout",
     "output_type": "stream",
     "text": [
      "                    examplepath  label\n",
      "0  C:/data/cifar_10/train/1.png      8\n",
      "1  C:/data/cifar_10/train/2.png      2\n",
      "2  C:/data/cifar_10/train/3.png      2\n",
      "3  C:/data/cifar_10/train/4.png      3\n",
      "4  C:/data/cifar_10/train/5.png      5\n",
      "        class  node\n",
      "0        frog     8\n",
      "1         dog     9\n",
      "2    airplane    10\n",
      "3       horse     7\n",
      "4        bird     1\n",
      "5       truck     2\n",
      "6        deer     3\n",
      "7         cat     6\n",
      "8        ship     4\n",
      "9  automobile     5\n"
     ]
    }
   ],
   "source": [
    "proc_labels_path = 'C:/data/cifar_10/proc_train_labels.csv'\n",
    "conversion_dict_path = 'C:/data/cifar_10/proc_train_classes_dictionary.csv'\n",
    "proc_labels.to_csv(proc_labels_path, index = False)\n",
    "conv_df = pd.DataFrame(list(class_to_num_dict.items()))\n",
    "conv_df.columns = ['class', 'node']\n",
    "conv_df.to_csv(conversion_dict_path, index = False)\n",
    "\n",
    "test_proc_labels_read = pd.read_csv(proc_labels_path)\n",
    "test_dict_read = pd.read_csv(conversion_dict_path)\n",
    "print(test_proc_labels_read.loc[0:4])\n",
    "print(test_dict_read)"
   ]
  },
  {
   "cell_type": "code",
   "execution_count": 42,
   "metadata": {},
   "outputs": [
    {
     "data": {
      "text/plain": [
       "list"
      ]
     },
     "execution_count": 42,
     "metadata": {},
     "output_type": "execute_result"
    }
   ],
   "source": [
    "type(list(class_to_num_dict.items()))"
   ]
  }
 ],
 "metadata": {
  "kernelspec": {
   "display_name": "Python 3",
   "language": "python",
   "name": "python3"
  },
  "language_info": {
   "codemirror_mode": {
    "name": "ipython",
    "version": 3
   },
   "file_extension": ".py",
   "mimetype": "text/x-python",
   "name": "python",
   "nbconvert_exporter": "python",
   "pygments_lexer": "ipython3",
   "version": "3.5.3"
  }
 },
 "nbformat": 4,
 "nbformat_minor": 2
}
