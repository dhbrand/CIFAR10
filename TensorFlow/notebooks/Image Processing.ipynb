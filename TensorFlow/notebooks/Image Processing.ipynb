{
 "cells": [
  {
   "cell_type": "code",
   "execution_count": 1,
   "metadata": {
    "collapsed": true
   },
   "outputs": [],
   "source": [
    "from scipy import misc\n",
    "import pandas as pd\n",
    "import math\n",
    "\n",
    "proc_labels_path = 'C:/data/cifar_10/proc_train_labels.csv'\n",
    "conversion_dict_path = 'C:/data/cifar_10/proc_train_classes_dictionary.csv'"
   ]
  },
  {
   "cell_type": "code",
   "execution_count": 3,
   "metadata": {
    "collapsed": true
   },
   "outputs": [],
   "source": [
    "labels = pd.read_csv(proc_labels_path)\n",
    "classes_dict = pd.read_csv(conversion_dict_path)\n",
    "img_arrs = [misc.imread(path).flatten() for path in labels['examplepath']]"
   ]
  },
  {
   "cell_type": "code",
   "execution_count": 4,
   "metadata": {},
   "outputs": [
    {
     "data": {
      "text/plain": [
       "<matplotlib.image.AxesImage at 0x15015f8d390>"
      ]
     },
     "execution_count": 4,
     "metadata": {},
     "output_type": "execute_result"
    },
    {
     "data": {
      "image/png": "[encoded data removed]",
      "text/plain": [
       "<matplotlib.figure.Figure at 0x15015ec4f98>"
      ]
     },
     "metadata": {},
     "output_type": "display_data"
    }
   ],
   "source": [
    "%matplotlib inline\n",
    "import matplotlib.pyplot as plt\n",
    "plt.imshow(img_arrs[0].reshape(32,32,3))"
   ]
  },
  {
   "cell_type": "code",
   "execution_count": 9,
   "metadata": {},
   "outputs": [
    {
     "data": {
      "text/plain": [
       "<matplotlib.image.AxesImage at 0x1502137b6d8>"
      ]
     },
     "execution_count": 9,
     "metadata": {},
     "output_type": "execute_result"
    },
    {
     "data": {
      "image/png": "[encoded data removed]",
      "text/plain": [
       "<matplotlib.figure.Figure at 0x150211a1390>"
      ]
     },
     "metadata": {},
     "output_type": "display_data"
    }
   ],
   "source": [
    "import numpy as np\n",
    "plt.imshow((img_arrs[0].reshape(32,32,3).astype(np.float32) / 255.0))"
   ]
  },
  {
   "cell_type": "code",
   "execution_count": null,
   "metadata": {
    "collapsed": true
   },
   "outputs": [],
   "source": [
    "print(len(labels) / 3)"
   ]
  },
  {
   "cell_type": "code",
   "execution_count": 7,
   "metadata": {},
   "outputs": [
    {
     "name": "stdout",
     "output_type": "stream",
     "text": [
      "i val:  1\n",
      "partial:  5556\n",
      "i val:  2\n",
      "partial:  5556\n",
      "i val:  3\n",
      "partial:  5556\n",
      "i val:  4\n",
      "partial:  5556\n",
      "i val:  5\n",
      "partial:  5556\n",
      "i val:  6\n",
      "partial:  5556\n",
      "i val:  7\n",
      "partial:  5556\n",
      "i val:  8\n",
      "partial:  5556\n",
      "final_partial:  5552\n",
      "DONE\n",
      "50000\n"
     ]
    }
   ],
   "source": [
    "num_records = 9\n",
    "ex_per_record = math.ceil(len(labels) / num_records)\n",
    "start = 0\n",
    "total = 0\n",
    "for i in range(1, num_records):\n",
    "    partial = len(labels.loc[start:(ex_per_record * i) - 1])\n",
    "    print('i val: ', i)\n",
    "    print('partial: ', partial)\n",
    "    total += partial\n",
    "    start += ex_per_record\n",
    "partial = len(labels.loc[ex_per_record * (num_records - 1):])\n",
    "df = labels.loc[ex_per_record * (num_records - 1):]\n",
    "total += partial\n",
    "print('final_partial: ', partial)\n",
    "print('DONE')\n",
    "print(total)"
   ]
  },
  {
   "cell_type": "code",
   "execution_count": 8,
   "metadata": {},
   "outputs": [
    {
     "name": "stdout",
     "output_type": "stream",
     "text": [
      "                            examplepath  label  \\\n",
      "44448  C:/data/cifar_10/train/44449.png      5   \n",
      "44449  C:/data/cifar_10/train/44450.png      2   \n",
      "44450  C:/data/cifar_10/train/44451.png      3   \n",
      "44451  C:/data/cifar_10/train/44452.png      6   \n",
      "44452  C:/data/cifar_10/train/44453.png      9   \n",
      "44453  C:/data/cifar_10/train/44454.png      7   \n",
      "44454  C:/data/cifar_10/train/44455.png     10   \n",
      "44455  C:/data/cifar_10/train/44456.png      6   \n",
      "44456  C:/data/cifar_10/train/44457.png      6   \n",
      "44457  C:/data/cifar_10/train/44458.png      7   \n",
      "44458  C:/data/cifar_10/train/44459.png      4   \n",
      "44459  C:/data/cifar_10/train/44460.png      9   \n",
      "44460  C:/data/cifar_10/train/44461.png      2   \n",
      "44461  C:/data/cifar_10/train/44462.png     10   \n",
      "44462  C:/data/cifar_10/train/44463.png      2   \n",
      "44463  C:/data/cifar_10/train/44464.png     10   \n",
      "44464  C:/data/cifar_10/train/44465.png     10   \n",
      "44465  C:/data/cifar_10/train/44466.png      3   \n",
      "44466  C:/data/cifar_10/train/44467.png      5   \n",
      "44467  C:/data/cifar_10/train/44468.png      1   \n",
      "44468  C:/data/cifar_10/train/44469.png     10   \n",
      "44469  C:/data/cifar_10/train/44470.png      2   \n",
      "44470  C:/data/cifar_10/train/44471.png     10   \n",
      "44471  C:/data/cifar_10/train/44472.png      7   \n",
      "44472  C:/data/cifar_10/train/44473.png      5   \n",
      "44473  C:/data/cifar_10/train/44474.png      3   \n",
      "44474  C:/data/cifar_10/train/44475.png      5   \n",
      "44475  C:/data/cifar_10/train/44476.png      5   \n",
      "44476  C:/data/cifar_10/train/44477.png     10   \n",
      "44477  C:/data/cifar_10/train/44478.png      4   \n",
      "...                                 ...    ...   \n",
      "49970  C:/data/cifar_10/train/49971.png      6   \n",
      "49971  C:/data/cifar_10/train/49972.png      2   \n",
      "49972  C:/data/cifar_10/train/49973.png      1   \n",
      "49973  C:/data/cifar_10/train/49974.png      5   \n",
      "49974  C:/data/cifar_10/train/49975.png      3   \n",
      "49975  C:/data/cifar_10/train/49976.png      6   \n",
      "49976  C:/data/cifar_10/train/49977.png      4   \n",
      "49977  C:/data/cifar_10/train/49978.png      5   \n",
      "49978  C:/data/cifar_10/train/49979.png      7   \n",
      "49979  C:/data/cifar_10/train/49980.png      6   \n",
      "49980  C:/data/cifar_10/train/49981.png      9   \n",
      "49981  C:/data/cifar_10/train/49982.png      3   \n",
      "49982  C:/data/cifar_10/train/49983.png      6   \n",
      "49983  C:/data/cifar_10/train/49984.png      6   \n",
      "49984  C:/data/cifar_10/train/49985.png      3   \n",
      "49985  C:/data/cifar_10/train/49986.png      4   \n",
      "49986  C:/data/cifar_10/train/49987.png      7   \n",
      "49987  C:/data/cifar_10/train/49988.png      1   \n",
      "49988  C:/data/cifar_10/train/49989.png      9   \n",
      "49989  C:/data/cifar_10/train/49990.png      5   \n",
      "49990  C:/data/cifar_10/train/49991.png      3   \n",
      "49991  C:/data/cifar_10/train/49992.png      1   \n",
      "49992  C:/data/cifar_10/train/49993.png     10   \n",
      "49993  C:/data/cifar_10/train/49994.png      5   \n",
      "49994  C:/data/cifar_10/train/49995.png     10   \n",
      "49995  C:/data/cifar_10/train/49996.png      1   \n",
      "49996  C:/data/cifar_10/train/49997.png      8   \n",
      "49997  C:/data/cifar_10/train/49998.png      2   \n",
      "49998  C:/data/cifar_10/train/49999.png      5   \n",
      "49999  C:/data/cifar_10/train/50000.png      5   \n",
      "\n",
      "                                                   image  \n",
      "44448  b'\\xf1\\xf1\\xf1\\xef\\xef\\xef\\xf0\\xf0\\xf0\\xef\\xf1...  \n",
      "44449  b'%<-\\x1f3+/?>=IMY]_KNM5=;(72\\x1f4-\\x1f5*,=7_h...  \n",
      "44450  b'\"%\\x16\"#\\x16*+\\x1a#%\\x17\\x1f!\\x15\\x1f#\\x18\\x...  \n",
      "44451  b\"\\x1b9S\\x10*I&ARh\\x89\\x86\\x87\\xaa\\xa2}\\x9f\\x9...  \n",
      "44452  b'o\\x89\\xaat\\x8b\\xabs\\x85\\x9dz\\x88\\x9a\\x7f\\x90...  \n",
      "44453  b'\\xff\\xff\\xff\\xff\\xff\\xff\\xff\\xff\\xff\\xff\\xff...  \n",
      "44454  b'\\xef\\xef\\xef\\xe9\\xe9\\xe9\\xea\\xea\\xea\\xea\\xea...  \n",
      "44455  b'\\xbf\\xa5\\x91\\xbd\\xa5\\x8e\\xc4\\xac\\x93\\xbc\\xa5...  \n",
      "44456  b'\\x16\\x17\\x13\\x1f\\x1a\\x17%\\x1c\\x18,!\\x1b7,#90...  \n",
      "44457  b'\\x7f\\x8fv\\x80\\x8exw\\x85qr\\x80q\\x80\\x8e~\\x89\\...  \n",
      "44458  b'\\xdb\\xdd\\xef\\xd1\\xd7\\xe7\\xd4\\xdb\\xeb\\xd6\\xdb...  \n",
      "44459  b'u/Gr-Dq,Cr-Ds.Et/Fu0Hu0Gt0Gu1Hs7Ks9Lt3Io/Dp8...  \n",
      "44460  b'\\xf9\\xfd\\xfd\\xee\\xf6\\xf6\\xf3\\xf9\\xfa\\xe2\\xec...  \n",
      "44461  b'\\x95\\x88}\\x95\\x87{\\x99\\x89|\\x97\\x8a|\\x97\\x8a...  \n",
      "44462  b'\\xd0\\xd5\\xd5\\xe9\\xeb\\xec\\xf5\\xf5\\xf7\\xed\\xec...  \n",
      "44463  b'4d\\xa53d\\xa25f\\xa36g\\xa47i\\xa67i\\xa68j\\xa79k...  \n",
      "44464  b'sy9v};\\x92\\x99Sku,Zf\\x1cgs,bm)]h%iu,y\\x858r~...  \n",
      "44465  b'\\xad\\xae\\xaa\\xad\\xae\\xaa\\xa6\\xa7\\xa3\\xb4\\xb5...  \n",
      "44466  b'(;D+?F3HM6LO2IJ+@E#8A!6>\"3:&8;\\x1e.4\\x1a$,L3...  \n",
      "44467  b'\\x8d\\xb2\\xcc\\x8b\\xb0\\xca\\x8c\\xb1\\xcb\\x8c\\xb1...  \n",
      "44468  b\"jtwGMM\\x1f#!'6:1PULknx}\\x88\\x87\\x80\\x8d\\x83\\...  \n",
      "44469  b'\\xad\\xd8\\xfb\\xa2\\xcd\\xf5\\xa3\\xcc\\xf9\\xa6\\xcc...  \n",
      "44470  b'\\xa7\\xc1\\xa5\\x89\\x98y\\x92\\x96s\\xa3\\xa0z\\xbc\\...  \n",
      "44471  b'$\\x1f\\x14\\'!\\x15)#\\x16,&\\x181)\\x1b7-\\x1b;0\\x...  \n",
      "44472  b'\\xf3\\xd5\\xc8\\xf0\\xd5\\xc4\\xf1\\xd7\\xc5\\xf2\\xda...  \n",
      "44473  b'\\xfa\\xfd\\xfe\\xf5\\xf8\\xfd\\xf8\\xfa\\xfe\\xf8\\xf9...  \n",
      "44474  b'\\r\\x13\\x0c\\x10\\x16\\x0f\\x1d!\\x1b\\x14\\x1f\\x19\\...  \n",
      "44475  b'}p]wjWznZ\\x87yeyqZlfQwn]smXlgSjdPhcJslPnjPwu...  \n",
      "44476  b'\\xaf\\xd4\\xea\\x92\\xc1\\xde\\x83\\xbd\\xe2\\x98\\xcb...  \n",
      "44477  b'\\xcf\\xf6\\xfd\\xd1\\xf9\\xff\\xd2\\xf9\\xff\\xd2\\xfa...  \n",
      "...                                                  ...  \n",
      "49970  b'\\xff\\xff\\xff\\xff\\xff\\xff\\xff\\xff\\xff\\xff\\xff...  \n",
      "49971  b'\\xe5\\xe9\\xf6\\xee\\xf2\\xfd\\xf0\\xf3\\xfd\\xfd\\xfe...  \n",
      "49972  b'\\x05L\\xa2\\x04Q\\x9c\\x06]\\xa0\\x07R\\xa4\\x03G\\xa...  \n",
      "49973  b'\\x9d\\xaa\\xba\\x8b\\x98\\xa7\\x9c\\xa9\\xb8\\xa7\\xb0...  \n",
      "49974  b')0,-20!\\'$A=7f^T[WLdeXNRE6=2*1&)0%6<1UQBn^F\\...  \n",
      "49975  b'NLjKHwLKuNMvPNyOM~POxSS|TSvSQqSPrRQuRQwSQxSP...  \n",
      "49976  b\"v{SlrHxyS\\x88\\x88]\\x8d\\x8dfZYHvviEE5FJ8U[Acg...  \n",
      "49977  b\"\\xff\\xfe\\xff\\xff\\xfe\\xff\\xff\\xff\\xff\\xfe\\xfe...  \n",
      "49978  b'\\xa4\\xa3\\x96^R8wfM~gR|cP|cL\\x83gM\\x90pV\\x97x...  \n",
      "49979  b'\\x04\\x04\\x04\\x04\\x04\\x04\\x05\\x05\\x05\\x00\\x00...  \n",
      "49980  b'nsmZzhRu_Xya\\\\~gfzk\\x86\\x94\\x8b\\x97\\xa3\\x9c\\...  \n",
      "49981  b'\\x99\\x92\\x8c\\x9c\\x95\\x8f\\x98\\x91\\x8b\\x93\\x8c...  \n",
      "49982  b')))\\'\\'%\\'\\'$)($+*%+*&-,(/.*0/,20.40/5106206...  \n",
      "49983  b')\\x1d\\x15+\\x1c\\x14+\\x1a\\x10-\\x1b\\x0f3\\x1c\\x0...  \n",
      "49984  b'&&\\x1e((\"*+\\'))*\\x87\\x88\\x8ajlq3280-..,,>;=_...  \n",
      "49985  b'\\xff\\xff\\xff\\xff\\xff\\xff\\xfd\\xff\\xff\\xfb\\xfe...  \n",
      "49986  b'a\\x97\\xc9b\\x98\\xc9c\\x99\\xc9c\\x99\\xc9d\\x99\\xc...  \n",
      "49987  b'T\\\\7OS6W[BSR;`\\\\Ea^J\\\\ZH[XFJC1ZK3cVDmbQm`P_V...  \n",
      "49988  b\"\\xa1\\xa6\\x9f\\xac\\xb1\\xaa\\xb0\\xb5\\xae\\xa4\\xa9...  \n",
      "49989  b'\\xfa\\xfc\\xf9\\xf6\\xf8\\xf5\\xf7\\xf9\\xf6\\xf5\\xf7...  \n",
      "49990  b\"\\xe2\\xe5\\xeb\\xe2\\xe5\\xed\\xe7\\xeb\\xf2\\xea\\xed...  \n",
      "49991  b'\\xbc\\xc3\\xc9\\xba\\xc1\\xc8\\xbb\\xc2\\xc8\\xbb\\xc2...  \n",
      "49992  b'\\x9b\\x9b\\x9b\\x9a\\x9a\\x9a\\x9a\\x9a\\x9a\\x9a\\x9a...  \n",
      "49993  b'\\xe2\\xd6\\xb1\\xe1\\xd4\\xb1\\xe1\\xcf\\xa8\\xe2\\xcd...  \n",
      "49994  b'\\x9c\\x9f\\xa4\\x9b\\x9e\\xa3\\x9c\\x9f\\xa3\\x9c\\x9e...  \n",
      "49995  b'\\x91\\xa1\\xc2\\x97\\xa6\\xc7\\x9c\\xab\\xcd\\x9b\\xad...  \n",
      "49996  b'\\xff\\xf5\\x84\\xfe\\xf7\\x86\\xff\\xf9\\x89\\xfe\\xfb...  \n",
      "49997  b'#\\xb2\\xeb(\\xb0\\xef*\\xb0\\xf1\\'\\xb4\\xef+\\xb5\\x...  \n",
      "49998  b'\\xbd\\xd3\\xf0\\xba\\xd0\\xec\\xb9\\xcf\\xeb\\xb8\\xcf...  \n",
      "49999  b'\\xe5\\xe5\\xef\\xec\\xed\\xf7\\xea\\xec\\xf7\\xe7\\xea...  \n",
      "\n",
      "[5552 rows x 3 columns]\n"
     ]
    }
   ],
   "source": [
    "print(df)"
   ]
  },
  {
   "cell_type": "code",
   "execution_count": 13,
   "metadata": {},
   "outputs": [
    {
     "data": {
      "text/plain": [
       "'C:/data/cifar_10/train/44453.png'"
      ]
     },
     "execution_count": 13,
     "metadata": {},
     "output_type": "execute_result"
    }
   ],
   "source": [
    "df.reset_index()['examplepath'][4]"
   ]
  }
 ],
 "metadata": {
  "kernelspec": {
   "display_name": "Python 3",
   "language": "python",
   "name": "python3"
  },
  "language_info": {
   "codemirror_mode": {
    "name": "ipython",
    "version": 3
   },
   "file_extension": ".py",
   "mimetype": "text/x-python",
   "name": "python",
   "nbconvert_exporter": "python",
   "pygments_lexer": "ipython3",
   "version": "3.5.3"
  }
 },
 "nbformat": 4,
 "nbformat_minor": 2
}
